{
 "cells": [
  {
   "cell_type": "markdown",
   "id": "f53a5071",
   "metadata": {},
   "source": [
    "#### for string in built functions\n",
    "\n",
    "# ss.isdecimal()\n",
    "# ss.replace(old,new)\n",
    "# reversed(ss)\n",
    "\n",
    "# string.ascii_lowercase\n",
    "# ss.lower()\n",
    "# set(ss)\n",
    "# \"\".join(set(ss.lower()))\n",
    "# ss.startswith(prefix)\n",
    "# ss.endswith(prefix)\n",
    "# ss.swapcase()\n",
    "# \"\".join(sorted(ss.lower()))"
   ]
  },
  {
   "cell_type": "markdown",
   "id": "da090c2f",
   "metadata": {},
   "source": [
    "#### Level- 1"
   ]
  },
  {
   "cell_type": "markdown",
   "id": "56fc085d",
   "metadata": {},
   "source": [
    "#### Write a Python program that prints the length of a string s."
   ]
  },
  {
   "cell_type": "code",
   "execution_count": 2,
   "id": "78b7e8fc",
   "metadata": {},
   "outputs": [
    {
     "name": "stdout",
     "output_type": "stream",
     "text": [
      "14\n",
      "14\n"
     ]
    }
   ],
   "source": [
    "ss= 'Hello whats up'\n",
    "\n",
    "count =0 \n",
    "for char in ss:\n",
    "    count= count +1 \n",
    "    \n",
    "print(count)\n",
    "\n",
    "## or \n",
    "print(len(ss))"
   ]
  },
  {
   "cell_type": "markdown",
   "id": "41940d13",
   "metadata": {},
   "source": [
    "#### Print the Character at a Specific Index"
   ]
  },
  {
   "cell_type": "raw",
   "id": "57c00ac8",
   "metadata": {},
   "source": [
    "\n",
    "📌 Description:\n",
    "Write a Python program that prints the character at index i in the string s.\n",
    "\n",
    "If the index is out of range, the program should print \"i out of range\"\n",
    "\n",
    "If the string is empty, the program should print \"Empty String\"\n",
    "\n",
    "🔹 Expected Output:\n",
    "If the string is \"Hello\" and i is 2, the output should be \"l\".\n",
    "\n",
    "If the string is \"Pizza\" and i is 4, the output should be \"a\".\n",
    "\n",
    "If the string is \"\" and i is 3, the output should be \"Empty String\".\n",
    "\n",
    "If the string is \"World\" and i is 15, the output should be \"i out of range\"."
   ]
  },
  {
   "cell_type": "code",
   "execution_count": 9,
   "id": "ea9fdd4d",
   "metadata": {},
   "outputs": [
    {
     "name": "stdout",
     "output_type": "stream",
     "text": [
      "l\n"
     ]
    }
   ],
   "source": [
    "ss= 'Hello'\n",
    "\n",
    "i=2\n",
    "if len(ss)<1:\n",
    "    print('Empty String')\n",
    "elif i>len(ss)+1:\n",
    "    print('Out of range')\n",
    "else:\n",
    "    print(ss[i])\n",
    "        \n"
   ]
  },
  {
   "cell_type": "markdown",
   "id": "11e0e470",
   "metadata": {},
   "source": [
    "#### Reverse a String"
   ]
  },
  {
   "cell_type": "raw",
   "id": "7e78519a",
   "metadata": {},
   "source": [
    "📌 Description:\n",
    "Write a Python Program that prints the reversed version of a string.\n",
    "\n",
    "The program must preserve uppercase and lowercase letters.\n",
    "\n",
    "If the string is empty, print it intact.\n",
    "\n",
    "🔹 Expected Output:\n",
    "'Hello' 'olleH'\n",
    "'' ''\n"
   ]
  },
  {
   "cell_type": "code",
   "execution_count": 13,
   "id": "1dd6fee8",
   "metadata": {},
   "outputs": [
    {
     "name": "stdout",
     "output_type": "stream",
     "text": [
      "olleH\n",
      "olleH\n"
     ]
    }
   ],
   "source": [
    "ss= 'Hello'\n",
    "\n",
    "print(ss[::-1])\n",
    "\n",
    "## or \n",
    "\n",
    "reverse_word =reversed(ss)\n",
    "print(\"\".join(reverse_word))\n",
    "    "
   ]
  },
  {
   "cell_type": "markdown",
   "id": "6eaa4b8e",
   "metadata": {},
   "source": [
    "#### First and Last Three Characters of a String"
   ]
  },
  {
   "cell_type": "raw",
   "id": "0954a1b6",
   "metadata": {},
   "source": [
    "📌 Description:\n",
    "Write a Python program that prints the first and last three characters of the string s as a single string.\n",
    "\n",
    "If the string has less than six characters, print an empty string (blank output).\n",
    "\n",
    "🔹 Expected Output:\n",
    "    'Blue' ''\n",
    "    'wonderful' 'wonful'"
   ]
  },
  {
   "cell_type": "code",
   "execution_count": 20,
   "id": "c2e70e85",
   "metadata": {},
   "outputs": [
    {
     "name": "stdout",
     "output_type": "stream",
     "text": [
      "wonful\n"
     ]
    }
   ],
   "source": [
    "ss= 'wonderful'\n",
    "\n",
    "if len(ss)>=6:\n",
    "    print(\"\".join(ss[0:3]+ss[len(ss)-3:]))\n",
    "else:\n",
    "    print('')\n",
    "    "
   ]
  },
  {
   "cell_type": "code",
   "execution_count": 21,
   "id": "123113eb",
   "metadata": {},
   "outputs": [
    {
     "name": "stdout",
     "output_type": "stream",
     "text": [
      "woul\n"
     ]
    }
   ],
   "source": [
    "# if num of char to be extract is not fixed then\n",
    "\n",
    "num_of_char = 2\n",
    "\n",
    "if len(ss)>=num_of_char *2:\n",
    "    print(\"\".join(ss[0:num_of_char]+ss[len(ss)-num_of_char:]))\n",
    "else:\n",
    "    print(\"\")"
   ]
  },
  {
   "cell_type": "markdown",
   "id": "946445ca",
   "metadata": {},
   "source": [
    "#### Remove Characters at Even Indices"
   ]
  },
  {
   "cell_type": "raw",
   "id": "dce2e914",
   "metadata": {},
   "source": [
    "    📌 Description:\n",
    "Write a Python program that prints the string s without the characters located at even indices.\n",
    "\n",
    "If the string is empty or only has one character, print it without any changes.\n",
    "\n",
    "🔹 Expected Output:\n",
    "    'coding' 'oig'\n",
    "    'A' 'A'\n",
    "    ''  ''\n",
    "    'pizza' 'iz'\n",
    "    \n",
    "    "
   ]
  },
  {
   "cell_type": "code",
   "execution_count": 30,
   "id": "58b3bc63",
   "metadata": {},
   "outputs": [
    {
     "name": "stdout",
     "output_type": "stream",
     "text": [
      "oig\n",
      "oig\n",
      "yhn\n"
     ]
    }
   ],
   "source": [
    "ss= 'coding'\n",
    "\n",
    "if len(ss)<2:\n",
    "    print(ss)\n",
    "else:\n",
    "    for i in range(0,len(ss)):\n",
    "        if i%2!=0:\n",
    "            print(ss[i],end=\"\")\n",
    "       \n",
    "print('')\n",
    "## or\n",
    "\n",
    "new_s =\"\"\n",
    "\n",
    "for i in range(len(ss)):\n",
    "    if i %2 !=0:\n",
    "        new_s =new_s+ ss[i]\n",
    "\n",
    "print(new_s)\n",
    "\n",
    "# or\n",
    "\n",
    "ss= 'python'\n",
    "new_s = \"\"\n",
    "\n",
    "for i in range(1,len(ss),2):\n",
    "    new_s = new_s + ss[i]\n",
    "    \n",
    "print(new_s)"
   ]
  },
  {
   "cell_type": "markdown",
   "id": "152ddd3e",
   "metadata": {},
   "source": [
    "#### Remove Characters at ODD Indices"
   ]
  },
  {
   "cell_type": "code",
   "execution_count": 34,
   "id": "ace72eab",
   "metadata": {},
   "outputs": [
    {
     "name": "stdout",
     "output_type": "stream",
     "text": [
      "pto\n",
      "\n",
      "pto\n"
     ]
    }
   ],
   "source": [
    "ss = 'python'\n",
    "\n",
    "new_s = \"\"\n",
    "\n",
    "for i in range(0,len(ss),2):\n",
    "    new_s = new_s +ss[i]\n",
    "    \n",
    "print(new_s)\n",
    "\n",
    "print(\"\")\n",
    "# or \n",
    "new_s = \"\"\n",
    "for i in range(len(ss)):\n",
    "    if i %2 == 0 :\n",
    "        new_s =new_s +ss[i]\n",
    "print(new_s)"
   ]
  },
  {
   "cell_type": "markdown",
   "id": "e3d7a96f",
   "metadata": {},
   "source": [
    "#### Check if a String Only Contains Numbers"
   ]
  },
  {
   "cell_type": "raw",
   "id": "cea55963",
   "metadata": {},
   "source": [
    "📌 Description:\n",
    "Write a Python program that check if a string only contains numbers.\n",
    "\n",
    "If it does, print True. Else, print False.\n",
    "\n",
    "🔹 Expected Output:\n",
    "    'Hello' False\n",
    "    '457' True\n",
    "    'Hello423' False\n",
    "    '' False\n",
    "    \n",
    "    🔸 Hints:\n",
    "The .isdecimal() method returns True if all the characters in the string are digits."
   ]
  },
  {
   "cell_type": "code",
   "execution_count": 40,
   "id": "3c3d168b",
   "metadata": {},
   "outputs": [
    {
     "name": "stdout",
     "output_type": "stream",
     "text": [
      "True\n"
     ]
    }
   ],
   "source": [
    "def is_num(ss):\n",
    "    return ss.isdecimal()\n",
    "\n",
    "ss= '457'\n",
    "print(is_num(ss))"
   ]
  },
  {
   "cell_type": "markdown",
   "id": "749e48d6",
   "metadata": {},
   "source": [
    "#### Remove nth Character from a String\n"
   ]
  },
  {
   "cell_type": "raw",
   "id": "ba070ad1",
   "metadata": {},
   "source": [
    "📌 Description:\n",
    "Write a Python program that prints the string s without the character at index n.\n",
    "\n",
    "If the index n is out of range, print the string s intact.\n",
    "\n",
    "If the string s is empty, print the string s intact.\n",
    "\n",
    "🔹 Expected Output:\n",
    "    \n",
    "'Hello' n=1 'Hllo'\n",
    "'' n=2 ''\n",
    "'Dog' n= 15 'Dog'"
   ]
  },
  {
   "cell_type": "code",
   "execution_count": 47,
   "id": "c0784fc0",
   "metadata": {},
   "outputs": [
    {
     "name": "stdout",
     "output_type": "stream",
     "text": [
      "Hllo\n"
     ]
    }
   ],
   "source": [
    "ss= 'Hello'\n",
    "n= 1\n",
    "new_s = \"\"\n",
    "\n",
    "if len(ss)==0 or len(ss)<=n:\n",
    "    print(ss)\n",
    "else:\n",
    "    for i in range(len(ss)):\n",
    "        if i !=n:\n",
    "            new_s = new_s + ss[i]\n",
    "        \n",
    "print(new_s)"
   ]
  },
  {
   "cell_type": "markdown",
   "id": "4adc4f25",
   "metadata": {},
   "source": [
    "#### Replace a Character in a String\n"
   ]
  },
  {
   "cell_type": "raw",
   "id": "4fbbb400",
   "metadata": {},
   "source": [
    "'P'📌 Description:\n",
    "Write a Python program that prints the string s with the character curr_char replaced by the character new_char.\n",
    "\n",
    "curr_char and new_char are variables that contain strings with a single character.\n",
    "\n",
    "You may assume that new_char will not be an empty string.\n",
    "\n",
    "The match must be case-sensitive (do not replace lowercase letters if curr_char is uppercase).\n",
    "\n",
    "If no match is found, print the initial string.\n",
    "\n",
    "🔹 Expected Output:\n",
    "'Hello' 'l' 's' 'Hesso'\n",
    "'Python' 'p' 'a' 'Python'"
   ]
  },
  {
   "cell_type": "code",
   "execution_count": 51,
   "id": "c1706bd3",
   "metadata": {},
   "outputs": [
    {
     "name": "stdout",
     "output_type": "stream",
     "text": [
      "Hesso\n",
      "Hesso\n"
     ]
    }
   ],
   "source": [
    "ss ='Hello'\n",
    "new_s = \"\"\n",
    "\n",
    "for char in ss:\n",
    "    if char == 'l':\n",
    "       new_s = new_s + 's'\n",
    "    else:\n",
    "        new_s = new_s + char\n",
    "    \n",
    "print(new_s)\n",
    "        \n",
    "# or\n",
    "print(ss.replace('l','s'))"
   ]
  },
  {
   "cell_type": "markdown",
   "id": "315d0200",
   "metadata": {},
   "source": [
    "#### Level 2 "
   ]
  },
  {
   "cell_type": "markdown",
   "id": "d48c06ef",
   "metadata": {},
   "source": [
    "#### Change Commas by Dots"
   ]
  },
  {
   "cell_type": "raw",
   "id": "5e439f11",
   "metadata": {},
   "source": [
    "📌 Description:\n",
    "Write a Python program that prints a version of the string s with all commas replaced by dots.\n",
    "\n",
    "🔹 Expected Output:\n",
    "    'Hello, world'  'Hello. world'\n",
    "    '3,46,789'   '3.46.789'"
   ]
  },
  {
   "cell_type": "code",
   "execution_count": 56,
   "id": "227265a0",
   "metadata": {},
   "outputs": [
    {
     "name": "stdout",
     "output_type": "stream",
     "text": [
      "3.46.789\n",
      "3.46.789\n"
     ]
    }
   ],
   "source": [
    "ss= '3,46,789'\n",
    "\n",
    "new_s = \"\"\n",
    "\n",
    "for char in ss:\n",
    "    if char == ',':\n",
    "        new_s = new_s + '.'\n",
    "    else:\n",
    "        new_s = new_s +char\n",
    "        \n",
    "print(new_s)\n",
    "\n",
    "# or\n",
    "\n",
    "print(ss.replace(',','.'))"
   ]
  },
  {
   "cell_type": "markdown",
   "id": "15b0cac8",
   "metadata": {},
   "source": [
    "#### Check if String Contains All Letters in the Alphabet"
   ]
  },
  {
   "cell_type": "raw",
   "id": "7a7cddef",
   "metadata": {},
   "source": [
    "📌 Description:\n",
    "Write a Python program that checks if the string s contains all the letters in the alphabet (case-insensitive, so \"A\" should be equivalent to \"a\").\n",
    "\n",
    "If it does, print True. Else, print False.\n",
    "\n",
    "Before comparing the characters, you should convert the string to lowercase.\n",
    "\n",
    "If the string contains spaces, ignore them before finding the result.\n",
    "\n",
    "You may assume that the string doesn't contain any other symbols, only spaces (possibly).\n",
    "\n",
    "Consider these letters as part of the alphabet: 'abcdefghijklmnopqrstuvwxyz'\n",
    "\n",
    "🔹 Expected Output:\n",
    "    'abcdefghijklmnopqrstuvwxyz' True\n",
    "    'Hello'  False\n",
    "\n",
    " Hints:\n",
    "To use a constant with all letters of the alphabet, you may use string.ascii_lowercase from the string module. You can import this module by writing import string at the top of your script.\n",
    "\n",
    "It can also be helpful to use sets in this problem\n"
   ]
  },
  {
   "cell_type": "code",
   "execution_count": 84,
   "id": "f3e320d8",
   "metadata": {},
   "outputs": [
    {
     "name": "stdout",
     "output_type": "stream",
     "text": [
      "abcdefghijklmnopqrstuvwxyz\n",
      "lhoe\n",
      "False\n",
      "True\n"
     ]
    }
   ],
   "source": [
    "ss= 'Hello'\n",
    "\n",
    "import string\n",
    "\n",
    "all_letter = string.ascii_lowercase\n",
    "print(all_letter)\n",
    "\n",
    "ss_normalized = \"\".join(set(ss.lower()))\n",
    "print(ss_normalized)\n",
    "\n",
    "print(all_letter == ss_normalized)\n",
    "   \n",
    "# or\n",
    "\n",
    "ss = 'The quick brown fox jumps over the lazy dog'\n",
    "is_pangram = True\n",
    "\n",
    "for char in string.ascii_lowercase:\n",
    "    if char not in ss.lower():\n",
    "        is_pangram = False\n",
    "        break\n",
    "        \n",
    "print(is_pangram)"
   ]
  },
  {
   "cell_type": "markdown",
   "id": "f123278c",
   "metadata": {},
   "source": [
    "#### Remove Spaces from a String"
   ]
  },
  {
   "cell_type": "raw",
   "id": "535bb577",
   "metadata": {},
   "source": [
    "📌 Description:\n",
    "Write a Python program that prints a copy of the string s without any spaces.\n",
    "\n",
    "Words should be connected in the final string.\n",
    "\n",
    "If the string doesn't contain spaces, print it intact.\n",
    "\n",
    "🔹 Expected Output:\n",
    "    'Hello, world' 'Hello,world'\n",
    "    'Have a great day' 'Haveagreatday'\n",
    "    'Python' 'Python'"
   ]
  },
  {
   "cell_type": "code",
   "execution_count": 90,
   "id": "383a59c5",
   "metadata": {},
   "outputs": [
    {
     "name": "stdout",
     "output_type": "stream",
     "text": [
      "Haveagreatday\n",
      "Haveagreatday\n"
     ]
    }
   ],
   "source": [
    "ss= 'Have a great day'\n",
    "\n",
    "print(ss.replace(\" \",\"\"))\n",
    "\n",
    "# or\n",
    "\n",
    "new_s = \"\"\n",
    "\n",
    "for char in ss:\n",
    "    if char != \" \":\n",
    "        new_s = new_s + char\n",
    "print(new_s)"
   ]
  },
  {
   "cell_type": "markdown",
   "id": "702e2e30",
   "metadata": {},
   "source": [
    "#### Check if a String Starts with a Prefix"
   ]
  },
  {
   "cell_type": "raw",
   "id": "1b583f0f",
   "metadata": {},
   "source": [
    "📌 Description:\n",
    "Write a Python program that checks if the string s starts with the sequence of characters denoted by the variable prefix.\n",
    "\n",
    "If it does, print True. Else, print False.\n",
    "\n",
    "This test should be case sensitive. For example, \"A\" should not be equivalent to \"a\".\n",
    "\n",
    "If the length of the prefix is greater than the length of the string, print False.\n",
    "\n",
    "🔹 Expected Output:\n",
    "    'Hello' 'He' True\n",
    "    'Coding' 'Con' False"
   ]
  },
  {
   "cell_type": "code",
   "execution_count": 94,
   "id": "86faf71e",
   "metadata": {},
   "outputs": [
    {
     "name": "stdout",
     "output_type": "stream",
     "text": [
      "True\n",
      "True\n"
     ]
    }
   ],
   "source": [
    "ss= 'Hello'\n",
    "prefix = 'He'\n",
    "\n",
    "print(ss[:len(prefix)] == prefix)\n",
    "\n",
    "# or \n",
    "\n",
    "print(ss.startswith(prefix))"
   ]
  },
  {
   "cell_type": "raw",
   "id": "92c47f3e",
   "metadata": {},
   "source": [
    "#### Check if a String Ends with a Suffix\n",
    "📌 Description:\n",
    "Write a Python program that checks if the string s ends with a specific sequence of characters denoted by the variable suffix.\n",
    "\n",
    "If it does, print True. Else, print False.\n",
    "\n",
    "This test should be case sensitive. Therefore, \"A\" should not be equivalent to \"a\".\n",
    "\n",
    "If the length of the suffix is greater than the length of the string, print False.\n",
    "\n",
    "🔹 Expected Output:\n",
    "    'Coding' 'eng' False\n",
    "    'Hello'  'ello' True"
   ]
  },
  {
   "cell_type": "code",
   "execution_count": 99,
   "id": "b1d2b9f5",
   "metadata": {},
   "outputs": [
    {
     "name": "stdout",
     "output_type": "stream",
     "text": [
      "False\n",
      "False\n",
      "False\n"
     ]
    }
   ],
   "source": [
    "ss= 'Coding'\n",
    "suffix= 'eng'\n",
    "\n",
    "print(ss[len(ss)-len(suffix):]== suffix)\n",
    "#or\n",
    "print(ss[-len(suffix):0]==suffix)\n",
    "\n",
    "# or\n",
    "\n",
    "print(ss.endswith(suffix))"
   ]
  },
  {
   "cell_type": "markdown",
   "id": "06766db7",
   "metadata": {},
   "source": [
    "#### Reverse Words in a String (*)"
   ]
  },
  {
   "cell_type": "raw",
   "id": "8f873b77",
   "metadata": {},
   "source": [
    "📌 Description:\n",
    "Write a Python program that reverses the individual words in the string s and changes their capitalization. Uppercase letters should be printed in lowercase and vice versa.\n",
    "\n",
    "Assume that the string only contains letters and spaces are used to separate words.\n",
    "\n",
    "🔹 Expected Output:\n",
    "    'Hello World' 'OLLEh DLROw'\n",
    "    'Python is Awesome' 'NOHTYp SI EMOSEWa'\n",
    "\n",
    "    "
   ]
  },
  {
   "cell_type": "code",
   "execution_count": 111,
   "id": "e15f4237",
   "metadata": {},
   "outputs": [
    {
     "name": "stdout",
     "output_type": "stream",
     "text": [
      "nohtyP\n",
      "NOHTYp SI EMOSEWa \n"
     ]
    }
   ],
   "source": [
    "ss = 'Python is Awesome'\n",
    "new_s = \"\"\n",
    "\n",
    "word_list = ss.split(' ')\n",
    "print(\"\".join(reversed(res[0])))\n",
    "\n",
    "for word in word_list:\n",
    "    rev_word = \"\".join(reversed(word))\n",
    "    swap_word = rev_word.swapcase()\n",
    "    new_s= new_s + swap_word + \" \"\n",
    "    \n",
    "print(new_s)\n",
    "    \n",
    "    \n",
    "\n"
   ]
  },
  {
   "cell_type": "markdown",
   "id": "47bb1f4c",
   "metadata": {},
   "source": [
    "#### Count Repeated Characters (*)"
   ]
  },
  {
   "cell_type": "raw",
   "id": "95a020ac",
   "metadata": {},
   "source": [
    "📌 Description:\n",
    "Write a Python program to count the number of repeated characters in the string s.\n",
    "\n",
    "The program must print the total number of repeated characters and a message on the next line displaying the repeated characters separated by a space and sorted alphabetically.\n",
    "\n",
    "If there are no repeated characters in the string, print 0 as the total count and None on the next line.\n",
    "\n",
    "🔹 Expected Output:\n",
    "    'Hello'  1\n",
    "             l\n",
    "    'Corporation'  2\n",
    "                   o r\n",
    "        \n",
    "    'Python'    0\n",
    "                None\n",
    "                \n",
    "  🔸 Hints:\n",
    "You might want to keep track of a counter.\n",
    "\n",
    "You could store repeated characters in a list. But be careful not to add repeated characters more than once.\n",
    "\n",
    "The sorted() function returns a sorted version of a list.\n",
    "\n",
    "With print(x, end=\" \"), you can print a sequence of values on the same line.\n",
    "    "
   ]
  },
  {
   "cell_type": "code",
   "execution_count": 123,
   "id": "7b0b3392",
   "metadata": {},
   "outputs": [
    {
     "name": "stdout",
     "output_type": "stream",
     "text": [
      "2\n",
      "o r "
     ]
    }
   ],
   "source": [
    "ss= 'Corporation'\n",
    "\n",
    "count_num = 0\n",
    "count_list = []\n",
    "\n",
    "for char in ss:\n",
    "    if (ss.count(char)>1) and (char not in count_list):\n",
    "        count_num = count_num + 1\n",
    "        count_list.append(char)\n",
    "    \n",
    "print(count_num)\n",
    "if len(count_list)>0:\n",
    "    for char in sorted(count_list):\n",
    "        print(char,end= \" \")"
   ]
  },
  {
   "cell_type": "markdown",
   "id": "784cfb65",
   "metadata": {},
   "source": [
    "#### Sort Words in Alphabetical Order (*)"
   ]
  },
  {
   "cell_type": "raw",
   "id": "2d43a9f2",
   "metadata": {},
   "source": [
    "📌 Description:\n",
    "Write a Python program to convert a string s to lowercase, sort the characters of each word in alphabetical order, and print the resulting string.\n",
    "\n",
    "You may assume that the string only contains letters and spaces to separate the words.\n",
    "\n",
    "Spaces should be preserved in the final string.\n",
    "\n",
    "🔹 Expected Output:\n",
    "    'Hello World' 'ehllo dlorw'\n",
    "    'Wonderful World' 'deflnoruw dlorw'\n",
    "     \n",
    "    \n",
    "    🔸 Hints:\n",
    "In Python, uppercase letters come before lowercase letters in alphabetical order.\n",
    "\n",
    "The sorted() function can be used to get a sorted list with the characters in a string.\n",
    "    "
   ]
  },
  {
   "cell_type": "code",
   "execution_count": 139,
   "id": "29c845da",
   "metadata": {},
   "outputs": [
    {
     "name": "stdout",
     "output_type": "stream",
     "text": [
      "deflnoruw dlorw \n"
     ]
    }
   ],
   "source": [
    "ss = 'Wonderful World'\n",
    "new_s = \"\"\n",
    "\n",
    "word_list1 = ss.split(\" \")\n",
    "\n",
    "for word in word_list1:\n",
    " \n",
    "    sorted_word = \"\".join(sorted(word.lower()))\n",
    "\n",
    "    new_s = new_s + sorted_word +\" \"\n",
    "    \n",
    "print(new_s)\n",
    "\n",
    "\n",
    "\n",
    "    "
   ]
  },
  {
   "cell_type": "code",
   "execution_count": 141,
   "id": "a287de28",
   "metadata": {},
   "outputs": [
    {
     "name": "stdout",
     "output_type": "stream",
     "text": [
      "deflnoruw dlorw \n"
     ]
    }
   ],
   "source": [
    "# or \n",
    "new_s = \"\"\n",
    "\n",
    "word_list1 = ss.split(\" \")\n",
    "\n",
    "for word in word_list1:\n",
    "    new_s = new_s + \"\".join(sorted(word.lower())) + \" \"\n",
    "\n",
    "new_s.rstrip()\n",
    "\n",
    "    \n",
    "print(new_s)"
   ]
  },
  {
   "cell_type": "code",
   "execution_count": null,
   "id": "0a2b034b",
   "metadata": {},
   "outputs": [],
   "source": []
  }
 ],
 "metadata": {
  "kernelspec": {
   "display_name": "Python 3 (ipykernel)",
   "language": "python",
   "name": "python3"
  },
  "language_info": {
   "codemirror_mode": {
    "name": "ipython",
    "version": 3
   },
   "file_extension": ".py",
   "mimetype": "text/x-python",
   "name": "python",
   "nbconvert_exporter": "python",
   "pygments_lexer": "ipython3",
   "version": "3.9.7"
  }
 },
 "nbformat": 4,
 "nbformat_minor": 5
}
